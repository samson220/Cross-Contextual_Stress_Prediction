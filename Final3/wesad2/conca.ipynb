{
 "cells": [
  {
   "cell_type": "code",
   "execution_count": 1,
   "metadata": {},
   "outputs": [
    {
     "name": "stdout",
     "output_type": "stream",
     "text": [
      "   ECG_time       ECG  EDA_time       EDA  EMG_time       EMG  Resp_time  \\\n",
      "0  0.000000  0.021423      0.00  5.250549  0.000000 -0.004440   0.000000   \n",
      "1  0.001429  0.020325      0.25  5.267334  0.001429  0.004349   0.001429   \n",
      "2  0.002857  0.016525      0.50  5.243301  0.002857  0.005173   0.002857   \n",
      "3  0.004286  0.016708      0.75  5.249405  0.004286  0.007187   0.004286   \n",
      "4  0.005714  0.011673      1.00  5.286407  0.005714 -0.015152   0.005714   \n",
      "\n",
      "       Resp  Temp_Chest_time  Temp_Chest  BVP_time    BVP  Temp_Wrist_time  \\\n",
      "0 -1.148987             0.00   30.120758  0.000000 -59.37             0.00   \n",
      "1 -1.124573             0.25   30.129517  0.015625 -53.42             0.25   \n",
      "2 -1.152039             0.50   30.138214  0.031250 -44.40             0.50   \n",
      "3 -1.158142             0.75   30.129517  0.046875 -33.17             0.75   \n",
      "4 -1.161194             1.00   30.130950  0.062500 -20.79             1.00   \n",
      "\n",
      "   Temp_Wrist  \n",
      "0       35.41  \n",
      "1       35.41  \n",
      "2       35.41  \n",
      "3       35.41  \n",
      "4       35.41  \n"
     ]
    }
   ],
   "source": [
    "import pandas as pd\n",
    "\n",
    "# List of CSV file paths\n",
    "csv_files = ['/Users/samson/Documents/Final3/wesad2/rawData/S2_sensor_data_with_time.csv', \n",
    "             '/Users/samson/Documents/Final3/wesad2/rawData/S3_sensor_data_with_time.csv', \n",
    "             '/Users/samson/Documents/Final3/wesad2/rawData/S4_sensor_data_with_time.csv',\n",
    "             '/Users/samson/Documents/Final3/wesad2/rawData/S5_sensor_data_with_time.csv',\n",
    "             '/Users/samson/Documents/Final3/wesad2/rawData/S7_sensor_data_with_time.csv',\n",
    "             '/Users/samson/Documents/Final3/wesad2/rawData/S9_sensor_data_with_time.csv',\n",
    "             '/Users/samson/Documents/Final3/wesad2/rawData/S9_sensor_data_with_time.csv',\n",
    "             '/Users/samson/Documents/Final3/wesad2/rawData/S10_sensor_data_with_time.csv',\n",
    "             '/Users/samson/Documents/Final3/wesad2/rawData/S11_sensor_data_with_time.csv',\n",
    "             '/Users/samson/Documents/Final3/wesad2/rawData/S13_sensor_data_with_time.csv',\n",
    "             '/Users/samson/Documents/Final3/wesad2/rawData/S14_sensor_data_with_time.csv',\n",
    "             '/Users/samson/Documents/Final3/wesad2/rawData/S15_sensor_data_with_time.csv',\n",
    "             '/Users/samson/Documents/Final3/wesad2/rawData/S16_sensor_data_with_time.csv',\n",
    "             '/Users/samson/Documents/Final3/wesad2/rawData/S17_sensor_data_with_time.csv']\n",
    "\n",
    "# Read each CSV file into a DataFrame and store them in a list\n",
    "dataframes = [pd.read_csv(file) for file in csv_files]\n",
    "\n",
    "# Concatenate all DataFrames in the list into a single DataFrame\n",
    "concatenated_df = pd.concat(dataframes, ignore_index=True)\n",
    "\n",
    "# Optionally, save the concatenated DataFrame to a new CSV file\n",
    "concatenated_df.to_csv('/Users/samson/Documents/Final3/wesad2/rawData/concatenated_file.csv', index=False)\n",
    "\n",
    "# If you want to see the first few rows of the concatenated DataFrame\n",
    "print(concatenated_df.head())\n",
    "\n"
   ]
  }
 ],
 "metadata": {
  "kernelspec": {
   "display_name": "myenv222",
   "language": "python",
   "name": "python3"
  },
  "language_info": {
   "codemirror_mode": {
    "name": "ipython",
    "version": 3
   },
   "file_extension": ".py",
   "mimetype": "text/x-python",
   "name": "python",
   "nbconvert_exporter": "python",
   "pygments_lexer": "ipython3",
   "version": "3.10.9"
  }
 },
 "nbformat": 4,
 "nbformat_minor": 2
}
